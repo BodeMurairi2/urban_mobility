{
 "cells": [
  {
   "cell_type": "code",
   "execution_count": null,
   "id": "af2a341f-6fa9-42ff-873c-11df28f4d0da",
   "metadata": {},
   "outputs": [],
   "source": [
    "%pip install pandas\n",
    "%pip install --upgrade plotly\n",
    "%pip install numpy\n",
    "%pip install pandas\n",
    "%pip install matplotlib\n",
    "%pip install seaborn\n",
    "%pip install iso3166\n",
    "%pip install --upgrade pip\n",
    "%pip install simpledbf"
   ]
  },
  {
   "cell_type": "code",
   "execution_count": 1,
   "id": "eb70b975-852c-49f7-a1f9-f811ae7631a2",
   "metadata": {},
   "outputs": [],
   "source": [
    "import pandas as pd"
   ]
  },
  {
   "cell_type": "code",
   "execution_count": 2,
   "id": "a659437c-49b6-4a41-ab1a-60656555cbca",
   "metadata": {},
   "outputs": [],
   "source": [
    "pd.options.display.float_format = '{:,.2f}'.format"
   ]
  },
  {
   "cell_type": "code",
   "execution_count": 3,
   "id": "e3090442-e9f0-456a-875a-8691e2d7e2e5",
   "metadata": {
    "scrolled": true
   },
   "outputs": [],
   "source": [
    "# load the data\n",
    "data = pd.read_parquet(\"urban_mobility.parquet\")"
   ]
  },
  {
   "cell_type": "code",
   "execution_count": 4,
   "id": "dcd3abb8-c7c4-4048-a721-cd7fc1b34e1f",
   "metadata": {},
   "outputs": [
    {
     "name": "stdout",
     "output_type": "stream",
     "text": [
      "The shape of the df: (3475226, 20)\n",
      "\n",
      "Columns name: ['VendorID', 'tpep_pickup_datetime', 'tpep_dropoff_datetime', 'passenger_count', 'trip_distance', 'RatecodeID', 'store_and_fwd_flag', 'PULocationID', 'DOLocationID', 'payment_type', 'fare_amount', 'extra', 'mta_tax', 'tip_amount', 'tolls_amount', 'improvement_surcharge', 'total_amount', 'congestion_surcharge', 'Airport_fee', 'cbd_congestion_fee']\n"
     ]
    }
   ],
   "source": [
    "# get the shape and columns name\n",
    "print(f\"The shape of the df: {data.shape}\\n\")\n",
    "columns_names = data.columns.tolist()\n",
    "print(f\"Columns name: {columns_names}\")"
   ]
  },
  {
   "cell_type": "code",
   "execution_count": null,
   "id": "0a3beac4-0ee3-49cb-a404-445cbf7e1174",
   "metadata": {},
   "outputs": [],
   "source": [
    "# get basic infos about each columns: names, datatype\n",
    "data.info()"
   ]
  },
  {
   "cell_type": "code",
   "execution_count": null,
   "id": "89f0e966-c3fa-46f2-881a-e0fb2024905e",
   "metadata": {},
   "outputs": [],
   "source": [
    "# get statistics infos\n",
    "data.describe()"
   ]
  },
  {
   "cell_type": "code",
   "execution_count": null,
   "id": "3c9a1481-fbe4-418f-881f-3c1dec92ca2a",
   "metadata": {},
   "outputs": [],
   "source": [
    "# check for NAN values\n",
    "data.isna().any().any()"
   ]
  },
  {
   "cell_type": "code",
   "execution_count": null,
   "id": "4b7c8eb4-57a7-4b88-a7b2-c1545f7f9be4",
   "metadata": {},
   "outputs": [],
   "source": [
    "# get NAN values\n",
    "nan_data = data[data.isna().any(axis=1)]\n",
    "# drop nan values\n",
    "clean_data = data.drop(index=nan_data.index)\n",
    "# check for duplicates\n",
    "clean_data.duplicated().any()\n",
    "clean_data.head()"
   ]
  },
  {
   "cell_type": "code",
   "execution_count": null,
   "id": "c19692b7-e500-4bea-8a58-a99ca797a98b",
   "metadata": {},
   "outputs": [],
   "source": [
    "clean_data[\"VendorID\"].value_counts()"
   ]
  },
  {
   "cell_type": "code",
   "execution_count": null,
   "id": "433cfb90-b162-4bef-8448-18ab4723d233",
   "metadata": {},
   "outputs": [],
   "source": [
    "clean_data[\"payment_type\"].value_counts()"
   ]
  },
  {
   "cell_type": "code",
   "execution_count": null,
   "id": "63e70195-00db-4dd2-91d0-89918bad9e32",
   "metadata": {},
   "outputs": [],
   "source": [
    "clean_data[clean_data['VendorID'] == 7].head()"
   ]
  },
  {
   "cell_type": "code",
   "execution_count": null,
   "id": "6a067406-0717-40a2-9e0d-9be680674e62",
   "metadata": {},
   "outputs": [],
   "source": [
    "# get the most visited places\n",
    "clean_data.head()\n",
    "most_visited_places = (\n",
    "    clean_data.groupby(\"DOLocationID\")[\"passenger_count\"]\n",
    "    .count()\n",
    "    .reset_index(name=\"NumTrips\")\n",
    "    .sort_values(\"NumTrips\", ascending=False)\n",
    ")\n",
    "most_visited_places.head(10)"
   ]
  },
  {
   "cell_type": "code",
   "execution_count": null,
   "id": "36206447-3b1f-4764-8d97-8119279b4c02",
   "metadata": {},
   "outputs": [],
   "source": [
    "# get the most visited places\n",
    "clean_data.head()\n",
    "most_visited_places = (\n",
    "    clean_data.groupby(\"DOLocationID\")[\"passenger_count\"]\n",
    "    .sum()\n",
    "    .reset_index(name=\"PassangerCount\")\n",
    "    .sort_values(\"PassangerCount\", ascending=False)\n",
    ")\n",
    "most_visited_places.head(10)"
   ]
  },
  {
   "cell_type": "code",
   "execution_count": null,
   "id": "654da5a8-9e87-4c8d-a950-a47b8573421b",
   "metadata": {},
   "outputs": [],
   "source": [
    "# payment type per number of trips\n",
    "clean_data.head()\n",
    "most_payment_types = (\n",
    "    clean_data.groupby(\"payment_type\")[\"passenger_count\"]\n",
    "    .count()\n",
    "    .reset_index(name=\"NumTrips\")\n",
    "    .sort_values(\"NumTrips\", ascending=False)\n",
    ")\n",
    "most_payment_types.head(10)"
   ]
  },
  {
   "cell_type": "code",
   "execution_count": null,
   "id": "5725f386-567e-4e25-bafb-c07beac9fc1a",
   "metadata": {},
   "outputs": [],
   "source": [
    "# payment type per number of passangers\n",
    "clean_data.head()\n",
    "most_payment_types = (\n",
    "    clean_data.groupby(\"payment_type\")[\"passenger_count\"]\n",
    "    .sum()\n",
    "    .reset_index(name=\"NumTrips\")\n",
    "    .sort_values(\"NumTrips\", ascending=False)\n",
    ")\n",
    "most_payment_types.head(10)"
   ]
  },
  {
   "cell_type": "code",
   "execution_count": null,
   "id": "e1228544-1226-45f4-b431-913d8e82807e",
   "metadata": {},
   "outputs": [],
   "source": [
    "clean_data.head()"
   ]
  },
  {
   "cell_type": "code",
   "execution_count": null,
   "id": "4f52e7b9-a6c1-4f6d-be7b-1201b5a8fd04",
   "metadata": {},
   "outputs": [],
   "source": [
    "from simpledbf import Dbf5\n",
    "\n",
    "dbf = Dbf5(\"data/taxi_zones.dbf\")\n",
    "data = dbf.to_dataframe()\n",
    "data.columns.tolist()"
   ]
  },
  {
   "cell_type": "code",
   "execution_count": null,
   "id": "8b154184-9203-495a-96c2-3ec5e0c7b992",
   "metadata": {},
   "outputs": [],
   "source": [
    "data[\"borough\"][236]"
   ]
  },
  {
   "cell_type": "code",
   "execution_count": null,
   "id": "b5013534-f6d6-458e-a472-f9d2ec2aa64f",
   "metadata": {},
   "outputs": [],
   "source": []
  }
 ],
 "metadata": {
  "kernelspec": {
   "display_name": "Python 3 (ipykernel)",
   "language": "python",
   "name": "python3"
  },
  "language_info": {
   "codemirror_mode": {
    "name": "ipython",
    "version": 3
   },
   "file_extension": ".py",
   "mimetype": "text/x-python",
   "name": "python",
   "nbconvert_exporter": "python",
   "pygments_lexer": "ipython3",
   "version": "3.12.7"
  }
 },
 "nbformat": 4,
 "nbformat_minor": 5
}
